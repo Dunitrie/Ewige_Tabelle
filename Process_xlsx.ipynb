{
 "cells": [
  {
   "cell_type": "code",
   "execution_count": null,
   "id": "724b9d47-5aec-42ed-a597-e2aeae8ee3fe",
   "metadata": {
    "tags": []
   },
   "outputs": [],
   "source": [
    "import pandas as pd\n",
    "import numpy as np\n",
    "from datetime import datetime\n",
    "import os\n",
    "\n",
    "\n",
    "all_names = set({})\n",
    "all_names_list = ['Karlotta','Lena','Dun','Sebi','Robin','Julius','Friedl','Melina','Maxi','Benni','Henning','Mary','Lukas']\n",
    "n_games_played = np.zeros(len(all_names_list))\n",
    "\n",
    "all_points = np.zeros((len(all_names_list), len(all_names_list)), dtype=int)\n",
    "all_wins = np.zeros((len(all_names_list), len(all_names_list)), dtype=int)\n",
    "\n",
    "date_format = \"%d.%m.%Y\"  # Define the format matching the input string\n",
    "date_remove_row = datetime.strptime(\"13.03.2023\", date_format)\n",
    "\n",
    "if not os.path.isdir(\"csv_files\"):\n",
    "    os.mkdir(\"csv_files\")\n",
    "\n",
    "# Load the Excel file\n",
    "file_path = \"Spieltags-Tabelle.xlsx\"\n",
    "\n",
    "# Load the Excel file and check sheet names\n",
    "excel_data = pd.ExcelFile(file_path, )\n",
    "print(\"Sheet Names:\", excel_data.sheet_names)"
   ]
  },
  {
   "cell_type": "code",
   "execution_count": 52,
   "id": "566b3e4c-5702-4366-9977-cfd2d4dff3ec",
   "metadata": {
    "tags": []
   },
   "outputs": [],
   "source": [
    "def get_positive_indices(row):\n",
    "    return row[row > 0].index.tolist()\n",
    "\n",
    "def get_negative_indices(row):\n",
    "    return row[row < 0].index.tolist()"
   ]
  },
  {
   "cell_type": "code",
   "execution_count": null,
   "id": "5c7743e9-ab92-4814-94e8-e69e2dc4af34",
   "metadata": {
    "tags": []
   },
   "outputs": [],
   "source": [
    "# Process each sheet\n",
    "for sheet_name in excel_data.sheet_names:\n",
    "    new_sheet_name = sheet_name.split(\" \")[0]\n",
    "    if len(new_sheet_name.split(\".\")[2]) == 2:\n",
    "        new_sheet_name = new_sheet_name[:-2] + \"20\"+new_sheet_name[-2:]\n",
    "    game_day = datetime.strptime(new_sheet_name, date_format)\n",
    "    \n",
    "    print(f\"Processing sheet: {sheet_name}\")\n",
    "    df = pd.read_excel(file_path, sheet_name=sheet_name)\n",
    "    df.columns = df.columns.str.split(pat=r\"[\").str[0]  # Keep only the first part\n",
    "    df.columns = df.columns.str.split().str[0]  # Keep only the first part\n",
    "        \n",
    "    # Determine the stopping column based on conditions\n",
    "    stop_column = len(df.columns)  # Default to all columns\n",
    "    for i, col_name in enumerate(df.columns):\n",
    "        if pd.isna(col_name) or col_name == \"Bock\" or col_name.startswith(\"Unnamed\"):\n",
    "            stop_column = i\n",
    "            break\n",
    "\n",
    "    # Select only the first 4-5 columns or until stopping condition\n",
    "    df = df.iloc[:, :max(4, stop_column)]\n",
    "    df = df.dropna(axis=0)\n",
    "    df = df.astype(int)\n",
    "\n",
    "    # Remove the rows with number of wins that day\n",
    "    if game_day > date_remove_row:\n",
    "        df = df.drop(index=0)\n",
    "\n",
    "    # How much points were earned this game?\n",
    "    diff = df.diff()\n",
    "    # Row 0 is just the first row of the other game\n",
    "    diff.iloc[0] = df.iloc[0,:]\n",
    "    diff = diff.astype(int)\n",
    "\n",
    "    # Add to keep score of names\n",
    "    for name in df.columns:\n",
    "        all_names.add(name)\n",
    "    \n",
    "    # Save to new file or use further\n",
    "    output_file = f\"csv_files\\{new_sheet_name}.csv\"\n",
    "\n",
    "    # Iterate over all games\n",
    "    for row_idx in range(diff.shape[0]):\n",
    "        winners_df = get_positive_indices(diff.iloc[row_idx])\n",
    "        losers_df = get_negative(indices(diff.iloc[row_idx])\n",
    "        # For the first part ignore Soli\n",
    "        if len(winners_df) == 2:\n",
    "            winner1_idx = all_names_list.index(winners_df[0])\n",
    "            winner2_idx = all_names_list.index(winners_df[1])\n",
    "            \n",
    "            all_wins[winner1_idx, winner2_idx] += 1\n",
    "            all_wins[winner2_idx, winner1_idx] += 1\n",
    "\n",
    "            n_games_played[winner1_idx] += 1\n",
    "            n_games_played[winner2_idx] += 1\n",
    "    \n",
    "    df.to_csv(output_file, index=False)"
   ]
  },
  {
   "cell_type": "code",
   "execution_count": null,
   "id": "2fc7a32b-e337-47be-9203-df51ec2719d9",
   "metadata": {},
   "outputs": [],
   "source": [
    "import matplotlib.pyplot as plt\n",
    "\n",
    "fig, ax = plt.subplots()\n",
    "row_sums = all_wins.sum(axis=1)\n",
    "for i, sum_value in enumerate(row_sums):\n",
    "    ax.text(all_wins.shape[1]-.5, i, str(sum_value),\n",
    "            va='center', ha='left', color='black', fontsize=10)\n",
    "\n",
    "im = plt.imshow(all_wins)\n",
    "plt.xticks(ticks=np.arange(len(all_names_list)),\n",
    "           labels=all_names_list, \n",
    "           rotation=90)\n",
    "plt.yticks(ticks=np.arange(len(all_names_list)),\n",
    "           labels=all_names_list\n",
    "          )\n",
    "plt.colorbar(im)\n",
    "plt.show()"
   ]
  },
  {
   "cell_type": "code",
   "execution_count": null,
   "id": "bbe1c79c-78c8-4b0a-8e3b-4ad4ce500262",
   "metadata": {},
   "outputs": [],
   "source": []
  }
 ],
 "metadata": {
  "kernelspec": {
   "display_name": "Python 3 (ipykernel)",
   "language": "python",
   "name": "python3"
  },
  "language_info": {
   "codemirror_mode": {
    "name": "ipython",
    "version": 3
   },
   "file_extension": ".py",
   "mimetype": "text/x-python",
   "name": "python",
   "nbconvert_exporter": "python",
   "pygments_lexer": "ipython3",
   "version": "3.10.0"
  }
 },
 "nbformat": 4,
 "nbformat_minor": 5
}
